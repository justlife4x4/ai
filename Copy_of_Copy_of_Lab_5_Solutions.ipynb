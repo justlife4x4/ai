{
  "nbformat": 4,
  "nbformat_minor": 0,
  "metadata": {
    "colab": {
      "provenance": [],
      "collapsed_sections": []
    },
    "kernelspec": {
      "name": "python3",
      "display_name": "Python 3"
    },
    "language_info": {
      "name": "python"
    }
  },
  "cells": [
    {
      "cell_type": "markdown",
      "source": [
        "**Upload Data-Set from the local drive**"
      ],
      "metadata": {
        "id": "fJxnmZYxrITY"
      }
    },
    {
      "cell_type": "code",
      "execution_count": null,
      "metadata": {
        "colab": {
          "base_uri": "https://localhost:8080/",
          "height": 74
        },
        "id": "WlZy-AT5ocNG",
        "outputId": "b9dad54e-c56c-43e9-d2ef-3c049b5f1bd9"
      },
      "outputs": [
        {
          "output_type": "display_data",
          "data": {
            "text/plain": [
              "<IPython.core.display.HTML object>"
            ],
            "text/html": [
              "\n",
              "     <input type=\"file\" id=\"files-149678c4-7738-45c8-bb5e-1408f2f8804f\" name=\"files[]\" multiple disabled\n",
              "        style=\"border:none\" />\n",
              "     <output id=\"result-149678c4-7738-45c8-bb5e-1408f2f8804f\">\n",
              "      Upload widget is only available when the cell has been executed in the\n",
              "      current browser session. Please rerun this cell to enable.\n",
              "      </output>\n",
              "      <script>// Copyright 2017 Google LLC\n",
              "//\n",
              "// Licensed under the Apache License, Version 2.0 (the \"License\");\n",
              "// you may not use this file except in compliance with the License.\n",
              "// You may obtain a copy of the License at\n",
              "//\n",
              "//      http://www.apache.org/licenses/LICENSE-2.0\n",
              "//\n",
              "// Unless required by applicable law or agreed to in writing, software\n",
              "// distributed under the License is distributed on an \"AS IS\" BASIS,\n",
              "// WITHOUT WARRANTIES OR CONDITIONS OF ANY KIND, either express or implied.\n",
              "// See the License for the specific language governing permissions and\n",
              "// limitations under the License.\n",
              "\n",
              "/**\n",
              " * @fileoverview Helpers for google.colab Python module.\n",
              " */\n",
              "(function(scope) {\n",
              "function span(text, styleAttributes = {}) {\n",
              "  const element = document.createElement('span');\n",
              "  element.textContent = text;\n",
              "  for (const key of Object.keys(styleAttributes)) {\n",
              "    element.style[key] = styleAttributes[key];\n",
              "  }\n",
              "  return element;\n",
              "}\n",
              "\n",
              "// Max number of bytes which will be uploaded at a time.\n",
              "const MAX_PAYLOAD_SIZE = 100 * 1024;\n",
              "\n",
              "function _uploadFiles(inputId, outputId) {\n",
              "  const steps = uploadFilesStep(inputId, outputId);\n",
              "  const outputElement = document.getElementById(outputId);\n",
              "  // Cache steps on the outputElement to make it available for the next call\n",
              "  // to uploadFilesContinue from Python.\n",
              "  outputElement.steps = steps;\n",
              "\n",
              "  return _uploadFilesContinue(outputId);\n",
              "}\n",
              "\n",
              "// This is roughly an async generator (not supported in the browser yet),\n",
              "// where there are multiple asynchronous steps and the Python side is going\n",
              "// to poll for completion of each step.\n",
              "// This uses a Promise to block the python side on completion of each step,\n",
              "// then passes the result of the previous step as the input to the next step.\n",
              "function _uploadFilesContinue(outputId) {\n",
              "  const outputElement = document.getElementById(outputId);\n",
              "  const steps = outputElement.steps;\n",
              "\n",
              "  const next = steps.next(outputElement.lastPromiseValue);\n",
              "  return Promise.resolve(next.value.promise).then((value) => {\n",
              "    // Cache the last promise value to make it available to the next\n",
              "    // step of the generator.\n",
              "    outputElement.lastPromiseValue = value;\n",
              "    return next.value.response;\n",
              "  });\n",
              "}\n",
              "\n",
              "/**\n",
              " * Generator function which is called between each async step of the upload\n",
              " * process.\n",
              " * @param {string} inputId Element ID of the input file picker element.\n",
              " * @param {string} outputId Element ID of the output display.\n",
              " * @return {!Iterable<!Object>} Iterable of next steps.\n",
              " */\n",
              "function* uploadFilesStep(inputId, outputId) {\n",
              "  const inputElement = document.getElementById(inputId);\n",
              "  inputElement.disabled = false;\n",
              "\n",
              "  const outputElement = document.getElementById(outputId);\n",
              "  outputElement.innerHTML = '';\n",
              "\n",
              "  const pickedPromise = new Promise((resolve) => {\n",
              "    inputElement.addEventListener('change', (e) => {\n",
              "      resolve(e.target.files);\n",
              "    });\n",
              "  });\n",
              "\n",
              "  const cancel = document.createElement('button');\n",
              "  inputElement.parentElement.appendChild(cancel);\n",
              "  cancel.textContent = 'Cancel upload';\n",
              "  const cancelPromise = new Promise((resolve) => {\n",
              "    cancel.onclick = () => {\n",
              "      resolve(null);\n",
              "    };\n",
              "  });\n",
              "\n",
              "  // Wait for the user to pick the files.\n",
              "  const files = yield {\n",
              "    promise: Promise.race([pickedPromise, cancelPromise]),\n",
              "    response: {\n",
              "      action: 'starting',\n",
              "    }\n",
              "  };\n",
              "\n",
              "  cancel.remove();\n",
              "\n",
              "  // Disable the input element since further picks are not allowed.\n",
              "  inputElement.disabled = true;\n",
              "\n",
              "  if (!files) {\n",
              "    return {\n",
              "      response: {\n",
              "        action: 'complete',\n",
              "      }\n",
              "    };\n",
              "  }\n",
              "\n",
              "  for (const file of files) {\n",
              "    const li = document.createElement('li');\n",
              "    li.append(span(file.name, {fontWeight: 'bold'}));\n",
              "    li.append(span(\n",
              "        `(${file.type || 'n/a'}) - ${file.size} bytes, ` +\n",
              "        `last modified: ${\n",
              "            file.lastModifiedDate ? file.lastModifiedDate.toLocaleDateString() :\n",
              "                                    'n/a'} - `));\n",
              "    const percent = span('0% done');\n",
              "    li.appendChild(percent);\n",
              "\n",
              "    outputElement.appendChild(li);\n",
              "\n",
              "    const fileDataPromise = new Promise((resolve) => {\n",
              "      const reader = new FileReader();\n",
              "      reader.onload = (e) => {\n",
              "        resolve(e.target.result);\n",
              "      };\n",
              "      reader.readAsArrayBuffer(file);\n",
              "    });\n",
              "    // Wait for the data to be ready.\n",
              "    let fileData = yield {\n",
              "      promise: fileDataPromise,\n",
              "      response: {\n",
              "        action: 'continue',\n",
              "      }\n",
              "    };\n",
              "\n",
              "    // Use a chunked sending to avoid message size limits. See b/62115660.\n",
              "    let position = 0;\n",
              "    do {\n",
              "      const length = Math.min(fileData.byteLength - position, MAX_PAYLOAD_SIZE);\n",
              "      const chunk = new Uint8Array(fileData, position, length);\n",
              "      position += length;\n",
              "\n",
              "      const base64 = btoa(String.fromCharCode.apply(null, chunk));\n",
              "      yield {\n",
              "        response: {\n",
              "          action: 'append',\n",
              "          file: file.name,\n",
              "          data: base64,\n",
              "        },\n",
              "      };\n",
              "\n",
              "      let percentDone = fileData.byteLength === 0 ?\n",
              "          100 :\n",
              "          Math.round((position / fileData.byteLength) * 100);\n",
              "      percent.textContent = `${percentDone}% done`;\n",
              "\n",
              "    } while (position < fileData.byteLength);\n",
              "  }\n",
              "\n",
              "  // All done.\n",
              "  yield {\n",
              "    response: {\n",
              "      action: 'complete',\n",
              "    }\n",
              "  };\n",
              "}\n",
              "\n",
              "scope.google = scope.google || {};\n",
              "scope.google.colab = scope.google.colab || {};\n",
              "scope.google.colab._files = {\n",
              "  _uploadFiles,\n",
              "  _uploadFilesContinue,\n",
              "};\n",
              "})(self);\n",
              "</script> "
            ]
          },
          "metadata": {}
        },
        {
          "output_type": "stream",
          "name": "stdout",
          "text": [
            "Saving IPL IMB381IPL2013 (2).csv to IPL IMB381IPL2013 (2).csv\n"
          ]
        }
      ],
      "source": [
        "from google.colab import files\n",
        "uploaded = files.upload()"
      ]
    },
    {
      "cell_type": "markdown",
      "source": [
        "**1. Load the IPL Data Set**"
      ],
      "metadata": {
        "id": "DaOS2nI-rC7H"
      }
    },
    {
      "cell_type": "code",
      "source": [
        "import pandas as pd\n",
        "ipl_df = pd.read_csv(\"/content/IPL IMB381IPL2013 (2).csv\")\n",
        "print(ipl_df.shape)\n",
        "print(ipl_df.head())\n",
        "print(ipl_df.info())"
      ],
      "metadata": {
        "colab": {
          "base_uri": "https://localhost:8080/"
        },
        "id": "nJdS5I6dpe4X",
        "outputId": "545346d9-5732-48a0-f5fb-10e6d0350d94"
      },
      "execution_count": null,
      "outputs": [
        {
          "output_type": "stream",
          "name": "stdout",
          "text": [
            "(130, 26)\n",
            "   Sl.NO.   PLAYER NAME  AGE COUNTRY  TEAM PLAYING ROLE  T-RUNS  T-WKTS  \\\n",
            "0       1   Abdulla, YA    2      SA  KXIP   Allrounder       0       0   \n",
            "1       2  Abdur Razzak    2     BAN   RCB       Bowler     214      18   \n",
            "2       3   Agarkar, AB    2     IND   KKR       Bowler     571      58   \n",
            "3       4     Ashwin, R    1     IND   CSK       Bowler     284      31   \n",
            "4       5  Badrinath, S    2     IND   CSK      Batsman      63       0   \n",
            "\n",
            "   ODI-RUNS-S  ODI-SR-B  ...    SR-B  SIXERS  RUNS-C  WKTS  AVE-BL   ECON  \\\n",
            "0           0      0.00  ...    0.00       0     307    15   20.47   8.90   \n",
            "1         657     71.41  ...    0.00       0      29     0    0.00  14.50   \n",
            "2        1269     80.62  ...  121.01       5    1059    29   36.52   8.81   \n",
            "3         241     84.56  ...   76.32       0    1125    49   22.96   6.23   \n",
            "4          79     45.93  ...  120.71      28       0     0    0.00   0.00   \n",
            "\n",
            "   SR-BL  AUCTION YEAR  BASE PRICE  SOLD PRICE  \n",
            "0  13.93          2009       50000       50000  \n",
            "1   0.00          2008       50000       50000  \n",
            "2  24.90          2008      200000      350000  \n",
            "3  22.14          2011      100000      850000  \n",
            "4   0.00          2011      100000      800000  \n",
            "\n",
            "[5 rows x 26 columns]\n",
            "<class 'pandas.core.frame.DataFrame'>\n",
            "RangeIndex: 130 entries, 0 to 129\n",
            "Data columns (total 26 columns):\n",
            " #   Column         Non-Null Count  Dtype  \n",
            "---  ------         --------------  -----  \n",
            " 0   Sl.NO.         130 non-null    int64  \n",
            " 1   PLAYER NAME    130 non-null    object \n",
            " 2   AGE            130 non-null    int64  \n",
            " 3   COUNTRY        130 non-null    object \n",
            " 4   TEAM           130 non-null    object \n",
            " 5   PLAYING ROLE   130 non-null    object \n",
            " 6   T-RUNS         130 non-null    int64  \n",
            " 7   T-WKTS         130 non-null    int64  \n",
            " 8   ODI-RUNS-S     130 non-null    int64  \n",
            " 9   ODI-SR-B       130 non-null    float64\n",
            " 10  ODI-WKTS       130 non-null    int64  \n",
            " 11  ODI-SR-BL      130 non-null    float64\n",
            " 12  CAPTAINCY EXP  130 non-null    int64  \n",
            " 13  RUNS-S         130 non-null    int64  \n",
            " 14  HS             130 non-null    int64  \n",
            " 15  AVE            130 non-null    float64\n",
            " 16  SR-B           130 non-null    float64\n",
            " 17  SIXERS         130 non-null    int64  \n",
            " 18  RUNS-C         130 non-null    int64  \n",
            " 19  WKTS           130 non-null    int64  \n",
            " 20  AVE-BL         130 non-null    float64\n",
            " 21  ECON           130 non-null    float64\n",
            " 22  SR-BL          130 non-null    float64\n",
            " 23  AUCTION YEAR   130 non-null    int64  \n",
            " 24  BASE PRICE     130 non-null    int64  \n",
            " 25  SOLD PRICE     130 non-null    int64  \n",
            "dtypes: float64(7), int64(15), object(4)\n",
            "memory usage: 26.5+ KB\n",
            "None\n"
          ]
        }
      ]
    },
    {
      "cell_type": "markdown",
      "source": [
        "**2. Display the first initial  10 columns for thre first 5 records**"
      ],
      "metadata": {
        "id": "2oHJiMgip-Me"
      }
    },
    {
      "cell_type": "code",
      "source": [
        "ipl_df.iloc[0:5 , 0:10]"
      ],
      "metadata": {
        "colab": {
          "base_uri": "https://localhost:8080/",
          "height": 206
        },
        "id": "VFx5qcCRp-V1",
        "outputId": "82e75831-d159-41f0-b914-68673c33491c"
      },
      "execution_count": null,
      "outputs": [
        {
          "output_type": "execute_result",
          "data": {
            "text/plain": [
              "   Sl.NO.   PLAYER NAME  AGE COUNTRY  TEAM PLAYING ROLE  T-RUNS  T-WKTS  \\\n",
              "0       1   Abdulla, YA    2      SA  KXIP   Allrounder       0       0   \n",
              "1       2  Abdur Razzak    2     BAN   RCB       Bowler     214      18   \n",
              "2       3   Agarkar, AB    2     IND   KKR       Bowler     571      58   \n",
              "3       4     Ashwin, R    1     IND   CSK       Bowler     284      31   \n",
              "4       5  Badrinath, S    2     IND   CSK      Batsman      63       0   \n",
              "\n",
              "   ODI-RUNS-S  ODI-SR-B  \n",
              "0           0      0.00  \n",
              "1         657     71.41  \n",
              "2        1269     80.62  \n",
              "3         241     84.56  \n",
              "4          79     45.93  "
            ],
            "text/html": [
              "\n",
              "  <div id=\"df-c25805d6-e29b-4a21-bb12-f54433115e0f\">\n",
              "    <div class=\"colab-df-container\">\n",
              "      <div>\n",
              "<style scoped>\n",
              "    .dataframe tbody tr th:only-of-type {\n",
              "        vertical-align: middle;\n",
              "    }\n",
              "\n",
              "    .dataframe tbody tr th {\n",
              "        vertical-align: top;\n",
              "    }\n",
              "\n",
              "    .dataframe thead th {\n",
              "        text-align: right;\n",
              "    }\n",
              "</style>\n",
              "<table border=\"1\" class=\"dataframe\">\n",
              "  <thead>\n",
              "    <tr style=\"text-align: right;\">\n",
              "      <th></th>\n",
              "      <th>Sl.NO.</th>\n",
              "      <th>PLAYER NAME</th>\n",
              "      <th>AGE</th>\n",
              "      <th>COUNTRY</th>\n",
              "      <th>TEAM</th>\n",
              "      <th>PLAYING ROLE</th>\n",
              "      <th>T-RUNS</th>\n",
              "      <th>T-WKTS</th>\n",
              "      <th>ODI-RUNS-S</th>\n",
              "      <th>ODI-SR-B</th>\n",
              "    </tr>\n",
              "  </thead>\n",
              "  <tbody>\n",
              "    <tr>\n",
              "      <th>0</th>\n",
              "      <td>1</td>\n",
              "      <td>Abdulla, YA</td>\n",
              "      <td>2</td>\n",
              "      <td>SA</td>\n",
              "      <td>KXIP</td>\n",
              "      <td>Allrounder</td>\n",
              "      <td>0</td>\n",
              "      <td>0</td>\n",
              "      <td>0</td>\n",
              "      <td>0.00</td>\n",
              "    </tr>\n",
              "    <tr>\n",
              "      <th>1</th>\n",
              "      <td>2</td>\n",
              "      <td>Abdur Razzak</td>\n",
              "      <td>2</td>\n",
              "      <td>BAN</td>\n",
              "      <td>RCB</td>\n",
              "      <td>Bowler</td>\n",
              "      <td>214</td>\n",
              "      <td>18</td>\n",
              "      <td>657</td>\n",
              "      <td>71.41</td>\n",
              "    </tr>\n",
              "    <tr>\n",
              "      <th>2</th>\n",
              "      <td>3</td>\n",
              "      <td>Agarkar, AB</td>\n",
              "      <td>2</td>\n",
              "      <td>IND</td>\n",
              "      <td>KKR</td>\n",
              "      <td>Bowler</td>\n",
              "      <td>571</td>\n",
              "      <td>58</td>\n",
              "      <td>1269</td>\n",
              "      <td>80.62</td>\n",
              "    </tr>\n",
              "    <tr>\n",
              "      <th>3</th>\n",
              "      <td>4</td>\n",
              "      <td>Ashwin, R</td>\n",
              "      <td>1</td>\n",
              "      <td>IND</td>\n",
              "      <td>CSK</td>\n",
              "      <td>Bowler</td>\n",
              "      <td>284</td>\n",
              "      <td>31</td>\n",
              "      <td>241</td>\n",
              "      <td>84.56</td>\n",
              "    </tr>\n",
              "    <tr>\n",
              "      <th>4</th>\n",
              "      <td>5</td>\n",
              "      <td>Badrinath, S</td>\n",
              "      <td>2</td>\n",
              "      <td>IND</td>\n",
              "      <td>CSK</td>\n",
              "      <td>Batsman</td>\n",
              "      <td>63</td>\n",
              "      <td>0</td>\n",
              "      <td>79</td>\n",
              "      <td>45.93</td>\n",
              "    </tr>\n",
              "  </tbody>\n",
              "</table>\n",
              "</div>\n",
              "      <button class=\"colab-df-convert\" onclick=\"convertToInteractive('df-c25805d6-e29b-4a21-bb12-f54433115e0f')\"\n",
              "              title=\"Convert this dataframe to an interactive table.\"\n",
              "              style=\"display:none;\">\n",
              "        \n",
              "  <svg xmlns=\"http://www.w3.org/2000/svg\" height=\"24px\"viewBox=\"0 0 24 24\"\n",
              "       width=\"24px\">\n",
              "    <path d=\"M0 0h24v24H0V0z\" fill=\"none\"/>\n",
              "    <path d=\"M18.56 5.44l.94 2.06.94-2.06 2.06-.94-2.06-.94-.94-2.06-.94 2.06-2.06.94zm-11 1L8.5 8.5l.94-2.06 2.06-.94-2.06-.94L8.5 2.5l-.94 2.06-2.06.94zm10 10l.94 2.06.94-2.06 2.06-.94-2.06-.94-.94-2.06-.94 2.06-2.06.94z\"/><path d=\"M17.41 7.96l-1.37-1.37c-.4-.4-.92-.59-1.43-.59-.52 0-1.04.2-1.43.59L10.3 9.45l-7.72 7.72c-.78.78-.78 2.05 0 2.83L4 21.41c.39.39.9.59 1.41.59.51 0 1.02-.2 1.41-.59l7.78-7.78 2.81-2.81c.8-.78.8-2.07 0-2.86zM5.41 20L4 18.59l7.72-7.72 1.47 1.35L5.41 20z\"/>\n",
              "  </svg>\n",
              "      </button>\n",
              "      \n",
              "  <style>\n",
              "    .colab-df-container {\n",
              "      display:flex;\n",
              "      flex-wrap:wrap;\n",
              "      gap: 12px;\n",
              "    }\n",
              "\n",
              "    .colab-df-convert {\n",
              "      background-color: #E8F0FE;\n",
              "      border: none;\n",
              "      border-radius: 50%;\n",
              "      cursor: pointer;\n",
              "      display: none;\n",
              "      fill: #1967D2;\n",
              "      height: 32px;\n",
              "      padding: 0 0 0 0;\n",
              "      width: 32px;\n",
              "    }\n",
              "\n",
              "    .colab-df-convert:hover {\n",
              "      background-color: #E2EBFA;\n",
              "      box-shadow: 0px 1px 2px rgba(60, 64, 67, 0.3), 0px 1px 3px 1px rgba(60, 64, 67, 0.15);\n",
              "      fill: #174EA6;\n",
              "    }\n",
              "\n",
              "    [theme=dark] .colab-df-convert {\n",
              "      background-color: #3B4455;\n",
              "      fill: #D2E3FC;\n",
              "    }\n",
              "\n",
              "    [theme=dark] .colab-df-convert:hover {\n",
              "      background-color: #434B5C;\n",
              "      box-shadow: 0px 1px 3px 1px rgba(0, 0, 0, 0.15);\n",
              "      filter: drop-shadow(0px 1px 2px rgba(0, 0, 0, 0.3));\n",
              "      fill: #FFFFFF;\n",
              "    }\n",
              "  </style>\n",
              "\n",
              "      <script>\n",
              "        const buttonEl =\n",
              "          document.querySelector('#df-c25805d6-e29b-4a21-bb12-f54433115e0f button.colab-df-convert');\n",
              "        buttonEl.style.display =\n",
              "          google.colab.kernel.accessAllowed ? 'block' : 'none';\n",
              "\n",
              "        async function convertToInteractive(key) {\n",
              "          const element = document.querySelector('#df-c25805d6-e29b-4a21-bb12-f54433115e0f');\n",
              "          const dataTable =\n",
              "            await google.colab.kernel.invokeFunction('convertToInteractive',\n",
              "                                                     [key], {});\n",
              "          if (!dataTable) return;\n",
              "\n",
              "          const docLinkHtml = 'Like what you see? Visit the ' +\n",
              "            '<a target=\"_blank\" href=https://colab.research.google.com/notebooks/data_table.ipynb>data table notebook</a>'\n",
              "            + ' to learn more about interactive tables.';\n",
              "          element.innerHTML = '';\n",
              "          dataTable['output_type'] = 'display_data';\n",
              "          await google.colab.output.renderOutput(dataTable, element);\n",
              "          const docLink = document.createElement('div');\n",
              "          docLink.innerHTML = docLinkHtml;\n",
              "          element.appendChild(docLink);\n",
              "        }\n",
              "      </script>\n",
              "    </div>\n",
              "  </div>\n",
              "  "
            ]
          },
          "metadata": {},
          "execution_count": 9
        }
      ]
    },
    {
      "cell_type": "markdown",
      "source": [
        "**3. Use only the following features to predict the players sold price**"
      ],
      "metadata": {
        "id": "-bUGi80Csg6w"
      }
    },
    {
      "cell_type": "code",
      "source": [
        "X_features = ['AGE','COUNTRY','PLAYING ROLE','T-RUNS','T-WKTS','ODI-RUNS-S','ODI-WKTS','ODI-SR-BL','CAPTAINCY EXP','RUNS-S','HS','AVE','SR-B','SIXERS','RUNS-C','WKTS','AVE-BL','ECON','SR-BL','SOLD PRICE']\n"
      ],
      "metadata": {
        "id": "rEchXmSUsskn"
      },
      "execution_count": null,
      "outputs": []
    },
    {
      "cell_type": "markdown",
      "source": [
        "**4. Some of these features are categorical . A categorical feature with k values is encoded using (k-1) binary/dummy features.**"
      ],
      "metadata": {
        "id": "G9HdMTg6wzsq"
      }
    },
    {
      "cell_type": "code",
      "source": [
        "categorical_features = ['AGE', 'COUNTRY', 'PLAYING ROLE', 'CAPTAINCY EXP']\n",
        "ipl_encoded_df = pd.get_dummies(ipl_df[X_features], columns = categorical_features, drop_first = True)\n",
        "X_features = ipl_encoded_df.columns\n",
        "print(X_features)"
      ],
      "metadata": {
        "colab": {
          "base_uri": "https://localhost:8080/"
        },
        "id": "XjTHfW6AxBcJ",
        "outputId": "d738c733-c1d6-4646-eafd-8052cdf00832"
      },
      "execution_count": null,
      "outputs": [
        {
          "output_type": "stream",
          "name": "stdout",
          "text": [
            "Index(['T-RUNS', 'T-WKTS', 'ODI-RUNS-S', 'ODI-WKTS', 'ODI-SR-BL', 'RUNS-S',\n",
            "       'HS', 'AVE', 'SR-B', 'SIXERS', 'RUNS-C', 'WKTS', 'AVE-BL', 'ECON',\n",
            "       'SR-BL', 'SOLD PRICE', 'AGE_2', 'AGE_3', 'COUNTRY_BAN', 'COUNTRY_ENG',\n",
            "       'COUNTRY_IND', 'COUNTRY_NZ', 'COUNTRY_PAK', 'COUNTRY_SA', 'COUNTRY_SL',\n",
            "       'COUNTRY_WI', 'COUNTRY_ZIM', 'PLAYING ROLE_Batsman',\n",
            "       'PLAYING ROLE_Bowler', 'PLAYING ROLE_W. Keeper', 'CAPTAINCY EXP_1'],\n",
            "      dtype='object')\n"
          ]
        }
      ]
    },
    {
      "cell_type": "code",
      "source": [
        "print(ipl_encoded_df.head(5))"
      ],
      "metadata": {
        "colab": {
          "base_uri": "https://localhost:8080/"
        },
        "id": "iK-Y88f3zoJq",
        "outputId": "5da3a6f9-c32e-4034-f8de-8c1beb2754f6"
      },
      "execution_count": null,
      "outputs": [
        {
          "output_type": "stream",
          "name": "stdout",
          "text": [
            "   T-RUNS  T-WKTS  ODI-RUNS-S  ODI-WKTS  ODI-SR-BL  RUNS-S  HS    AVE    SR-B  \\\n",
            "0       0       0           0         0        0.0       0   0   0.00    0.00   \n",
            "1     214      18         657       185       37.6       0   0   0.00    0.00   \n",
            "2     571      58        1269       288       32.9     167  39  18.56  121.01   \n",
            "3     284      31         241        51       36.8      58  11   5.80   76.32   \n",
            "4      63       0          79         0        0.0    1317  71  32.93  120.71   \n",
            "\n",
            "   SIXERS  ...  COUNTRY_NZ  COUNTRY_PAK  COUNTRY_SA  COUNTRY_SL  COUNTRY_WI  \\\n",
            "0       0  ...           0            0           1           0           0   \n",
            "1       0  ...           0            0           0           0           0   \n",
            "2       5  ...           0            0           0           0           0   \n",
            "3       0  ...           0            0           0           0           0   \n",
            "4      28  ...           0            0           0           0           0   \n",
            "\n",
            "   COUNTRY_ZIM  PLAYING ROLE_Batsman  PLAYING ROLE_Bowler  \\\n",
            "0            0                     0                    0   \n",
            "1            0                     0                    1   \n",
            "2            0                     0                    1   \n",
            "3            0                     0                    1   \n",
            "4            0                     1                    0   \n",
            "\n",
            "   PLAYING ROLE_W. Keeper  CAPTAINCY EXP_1  \n",
            "0                       0                0  \n",
            "1                       0                0  \n",
            "2                       0                0  \n",
            "3                       0                0  \n",
            "4                       0                0  \n",
            "\n",
            "[5 rows x 31 columns]\n"
          ]
        }
      ]
    },
    {
      "cell_type": "markdown",
      "source": [
        "**5. Add the constant column to estimate Beto 0 using statsmodel library. Split the Data-Set into Train and Validation Sets**"
      ],
      "metadata": {
        "id": "CauYMfZE0k0S"
      }
    },
    {
      "cell_type": "code",
      "source": [
        "from pandas.core.common import random_state\n",
        "import statsmodels.api as sm\n",
        "from sklearn.model_selection import train_test_split\n",
        "X = sm.add_constant(ipl_encoded_df)\n",
        "Y = ipl_df['SOLD PRICE']\n",
        "\n",
        "train_X, test_X, train_Y, test_Y= train_test_split(X, Y, train_size = 0.8, random_state = 42)"
      ],
      "metadata": {
        "id": "_lSpg5m408yy",
        "colab": {
          "base_uri": "https://localhost:8080/"
        },
        "outputId": "23c98b58-ee4c-4e3a-bcfc-79adcabc4b26"
      },
      "execution_count": null,
      "outputs": [
        {
          "output_type": "stream",
          "name": "stderr",
          "text": [
            "/usr/local/lib/python3.7/dist-packages/statsmodels/tsa/tsatools.py:142: FutureWarning: In a future version of pandas all arguments of concat except for the argument 'objs' will be keyword-only\n",
            "  x = pd.concat(x[::order], 1)\n"
          ]
        }
      ]
    },
    {
      "cell_type": "markdown",
      "source": [
        "**6. Build the model on training set**"
      ],
      "metadata": {
        "id": "PsTJ1rZe3y6z"
      }
    },
    {
      "cell_type": "code",
      "source": [
        "model1 = sm.OLS(train_Y,train_X).fit()\n",
        "model1.summary2()"
      ],
      "metadata": {
        "id": "n_mLoPpm32iz",
        "colab": {
          "base_uri": "https://localhost:8080/",
          "height": 919
        },
        "outputId": "9be3bcd4-9451-4bcf-f87f-dfe61d2cca9f"
      },
      "execution_count": null,
      "outputs": [
        {
          "output_type": "execute_result",
          "data": {
            "text/plain": [
              "<class 'statsmodels.iolib.summary2.Summary'>\n",
              "\"\"\"\n",
              "                          Results: Ordinary least squares\n",
              "===================================================================================\n",
              "Model:                    OLS                   Adj. R-squared:          1.000     \n",
              "Dependent Variable:       SOLD PRICE            AIC:                     -4151.4426\n",
              "Date:                     2022-10-28 04:02      BIC:                     -4066.8221\n",
              "No. Observations:         104                   Log-Likelihood:          2107.7    \n",
              "Df Model:                 31                    F-statistic:             2.724e+30 \n",
              "Df Residuals:             72                    Prob (F-statistic):      0.00      \n",
              "R-squared:                1.000                 Scale:                   2.1083e-19\n",
              "-----------------------------------------------------------------------------------\n",
              "                        Coef.  Std.Err.           t           P>|t|   [0.025 0.975]\n",
              "-----------------------------------------------------------------------------------\n",
              "const                   0.0000   0.0000                0.5946 0.5540 -0.0000 0.0000\n",
              "T-RUNS                 -0.0000   0.0000               -1.9677 0.0530 -0.0000 0.0000\n",
              "T-WKTS                  0.0000   0.0000                0.2036 0.8393 -0.0000 0.0000\n",
              "ODI-RUNS-S              0.0000   0.0000                1.1564 0.2513 -0.0000 0.0000\n",
              "ODI-WKTS                0.0000   0.0000                0.1988 0.8430 -0.0000 0.0000\n",
              "ODI-SR-BL              -0.0000   0.0000               -0.3951 0.6939 -0.0000 0.0000\n",
              "RUNS-S                  0.0000   0.0000                0.2366 0.8137 -0.0000 0.0000\n",
              "HS                     -0.0000   0.0000               -0.7404 0.4614 -0.0000 0.0000\n",
              "AVE                     0.0000   0.0000                0.7877 0.4335 -0.0000 0.0000\n",
              "SR-B                    0.0000   0.0000                0.7274 0.4693 -0.0000 0.0000\n",
              "SIXERS                 -0.0000   0.0000               -0.1611 0.8725 -0.0000 0.0000\n",
              "RUNS-C                  0.0000   0.0000                0.1381 0.8906 -0.0000 0.0000\n",
              "WKTS                   -0.0000   0.0000               -0.2716 0.7867 -0.0000 0.0000\n",
              "AVE-BL                 -0.0000   0.0000               -0.7388 0.4625 -0.0000 0.0000\n",
              "ECON                   -0.0000   0.0000               -0.3262 0.7452 -0.0000 0.0000\n",
              "SR-BL                  -0.0000   0.0000               -0.1872 0.8521 -0.0000 0.0000\n",
              "SOLD PRICE              1.0000   0.0000 6143260139872592.0000 0.0000  1.0000 1.0000\n",
              "AGE_2                  -0.0000   0.0000               -0.1807 0.8571 -0.0000 0.0000\n",
              "AGE_3                   0.0000   0.0000                0.4107 0.6825 -0.0000 0.0000\n",
              "COUNTRY_BAN            -0.0000   0.0000               -0.0482 0.9617 -0.0000 0.0000\n",
              "COUNTRY_ENG             0.0000   0.0000                0.6776 0.5002 -0.0000 0.0000\n",
              "COUNTRY_IND            -0.0000   0.0000               -0.1650 0.8694 -0.0000 0.0000\n",
              "COUNTRY_NZ              0.0000   0.0000                0.3985 0.6914 -0.0000 0.0000\n",
              "COUNTRY_PAK             0.0000   0.0000                0.1098 0.9129 -0.0000 0.0000\n",
              "COUNTRY_SA             -0.0000   0.0000               -0.2923 0.7709 -0.0000 0.0000\n",
              "COUNTRY_SL              0.0000   0.0000                0.9556 0.3425 -0.0000 0.0000\n",
              "COUNTRY_WI             -0.0000   0.0000               -0.0459 0.9635 -0.0000 0.0000\n",
              "COUNTRY_ZIM             0.0000   0.0000                0.0000 1.0000 -0.0000 0.0000\n",
              "PLAYING ROLE_Batsman    0.0000   0.0000                0.0000 1.0000 -0.0000 0.0000\n",
              "PLAYING ROLE_Bowler     0.0000   0.0000                0.5046 0.6154 -0.0000 0.0000\n",
              "PLAYING ROLE_W. Keeper -0.0000   0.0000               -0.4938 0.6230 -0.0000 0.0000\n",
              "CAPTAINCY EXP_1         0.0000   0.0000                1.0139 0.3140 -0.0000 0.0000\n",
              "-----------------------------------------------------------------------------------\n",
              "Omnibus:                   36.812             Durbin-Watson:                1.508  \n",
              "Prob(Omnibus):             0.000              Jarque-Bera (JB):             124.043\n",
              "Skew:                      1.155              Prob(JB):                     0.000  \n",
              "Kurtosis:                  7.826              Condition No.:                9799013\n",
              "===================================================================================\n",
              "* The condition number is large (1e+07). This might indicate             strong\n",
              "multicollinearity or other numerical problems.\n",
              "\"\"\""
            ],
            "text/html": [
              "<table class=\"simpletable\">\n",
              "<tr>\n",
              "        <td>Model:</td>               <td>OLS</td>         <td>Adj. R-squared:</td>      <td>1.000</td>  \n",
              "</tr>\n",
              "<tr>\n",
              "  <td>Dependent Variable:</td>    <td>SOLD PRICE</td>           <td>AIC:</td>         <td>-4151.4426</td>\n",
              "</tr>\n",
              "<tr>\n",
              "         <td>Date:</td>        <td>2022-10-28 04:02</td>        <td>BIC:</td>         <td>-4066.8221</td>\n",
              "</tr>\n",
              "<tr>\n",
              "   <td>No. Observations:</td>         <td>104</td>         <td>Log-Likelihood:</td>     <td>2107.7</td>  \n",
              "</tr>\n",
              "<tr>\n",
              "       <td>Df Model:</td>             <td>31</td>           <td>F-statistic:</td>      <td>2.724e+30</td>\n",
              "</tr>\n",
              "<tr>\n",
              "     <td>Df Residuals:</td>           <td>72</td>        <td>Prob (F-statistic):</td>    <td>0.00</td>   \n",
              "</tr>\n",
              "<tr>\n",
              "      <td>R-squared:</td>            <td>1.000</td>            <td>Scale:</td>        <td>2.1083e-19</td>\n",
              "</tr>\n",
              "</table>\n",
              "<table class=\"simpletable\">\n",
              "<tr>\n",
              "             <td></td>             <th>Coef.</th>  <th>Std.Err.</th>           <th>t</th>            <th>P>|t|</th> <th>[0.025</th>  <th>0.975]</th>\n",
              "</tr>\n",
              "<tr>\n",
              "  <th>const</th>                  <td>0.0000</td>   <td>0.0000</td>         <td>0.5946</td>         <td>0.5540</td> <td>-0.0000</td> <td>0.0000</td>\n",
              "</tr>\n",
              "<tr>\n",
              "  <th>T-RUNS</th>                 <td>-0.0000</td>  <td>0.0000</td>         <td>-1.9677</td>        <td>0.0530</td> <td>-0.0000</td> <td>0.0000</td>\n",
              "</tr>\n",
              "<tr>\n",
              "  <th>T-WKTS</th>                 <td>0.0000</td>   <td>0.0000</td>         <td>0.2036</td>         <td>0.8393</td> <td>-0.0000</td> <td>0.0000</td>\n",
              "</tr>\n",
              "<tr>\n",
              "  <th>ODI-RUNS-S</th>             <td>0.0000</td>   <td>0.0000</td>         <td>1.1564</td>         <td>0.2513</td> <td>-0.0000</td> <td>0.0000</td>\n",
              "</tr>\n",
              "<tr>\n",
              "  <th>ODI-WKTS</th>               <td>0.0000</td>   <td>0.0000</td>         <td>0.1988</td>         <td>0.8430</td> <td>-0.0000</td> <td>0.0000</td>\n",
              "</tr>\n",
              "<tr>\n",
              "  <th>ODI-SR-BL</th>              <td>-0.0000</td>  <td>0.0000</td>         <td>-0.3951</td>        <td>0.6939</td> <td>-0.0000</td> <td>0.0000</td>\n",
              "</tr>\n",
              "<tr>\n",
              "  <th>RUNS-S</th>                 <td>0.0000</td>   <td>0.0000</td>         <td>0.2366</td>         <td>0.8137</td> <td>-0.0000</td> <td>0.0000</td>\n",
              "</tr>\n",
              "<tr>\n",
              "  <th>HS</th>                     <td>-0.0000</td>  <td>0.0000</td>         <td>-0.7404</td>        <td>0.4614</td> <td>-0.0000</td> <td>0.0000</td>\n",
              "</tr>\n",
              "<tr>\n",
              "  <th>AVE</th>                    <td>0.0000</td>   <td>0.0000</td>         <td>0.7877</td>         <td>0.4335</td> <td>-0.0000</td> <td>0.0000</td>\n",
              "</tr>\n",
              "<tr>\n",
              "  <th>SR-B</th>                   <td>0.0000</td>   <td>0.0000</td>         <td>0.7274</td>         <td>0.4693</td> <td>-0.0000</td> <td>0.0000</td>\n",
              "</tr>\n",
              "<tr>\n",
              "  <th>SIXERS</th>                 <td>-0.0000</td>  <td>0.0000</td>         <td>-0.1611</td>        <td>0.8725</td> <td>-0.0000</td> <td>0.0000</td>\n",
              "</tr>\n",
              "<tr>\n",
              "  <th>RUNS-C</th>                 <td>0.0000</td>   <td>0.0000</td>         <td>0.1381</td>         <td>0.8906</td> <td>-0.0000</td> <td>0.0000</td>\n",
              "</tr>\n",
              "<tr>\n",
              "  <th>WKTS</th>                   <td>-0.0000</td>  <td>0.0000</td>         <td>-0.2716</td>        <td>0.7867</td> <td>-0.0000</td> <td>0.0000</td>\n",
              "</tr>\n",
              "<tr>\n",
              "  <th>AVE-BL</th>                 <td>-0.0000</td>  <td>0.0000</td>         <td>-0.7388</td>        <td>0.4625</td> <td>-0.0000</td> <td>0.0000</td>\n",
              "</tr>\n",
              "<tr>\n",
              "  <th>ECON</th>                   <td>-0.0000</td>  <td>0.0000</td>         <td>-0.3262</td>        <td>0.7452</td> <td>-0.0000</td> <td>0.0000</td>\n",
              "</tr>\n",
              "<tr>\n",
              "  <th>SR-BL</th>                  <td>-0.0000</td>  <td>0.0000</td>         <td>-0.1872</td>        <td>0.8521</td> <td>-0.0000</td> <td>0.0000</td>\n",
              "</tr>\n",
              "<tr>\n",
              "  <th>SOLD PRICE</th>             <td>1.0000</td>   <td>0.0000</td>  <td>6143260139872592.0000</td> <td>0.0000</td> <td>1.0000</td>  <td>1.0000</td>\n",
              "</tr>\n",
              "<tr>\n",
              "  <th>AGE_2</th>                  <td>-0.0000</td>  <td>0.0000</td>         <td>-0.1807</td>        <td>0.8571</td> <td>-0.0000</td> <td>0.0000</td>\n",
              "</tr>\n",
              "<tr>\n",
              "  <th>AGE_3</th>                  <td>0.0000</td>   <td>0.0000</td>         <td>0.4107</td>         <td>0.6825</td> <td>-0.0000</td> <td>0.0000</td>\n",
              "</tr>\n",
              "<tr>\n",
              "  <th>COUNTRY_BAN</th>            <td>-0.0000</td>  <td>0.0000</td>         <td>-0.0482</td>        <td>0.9617</td> <td>-0.0000</td> <td>0.0000</td>\n",
              "</tr>\n",
              "<tr>\n",
              "  <th>COUNTRY_ENG</th>            <td>0.0000</td>   <td>0.0000</td>         <td>0.6776</td>         <td>0.5002</td> <td>-0.0000</td> <td>0.0000</td>\n",
              "</tr>\n",
              "<tr>\n",
              "  <th>COUNTRY_IND</th>            <td>-0.0000</td>  <td>0.0000</td>         <td>-0.1650</td>        <td>0.8694</td> <td>-0.0000</td> <td>0.0000</td>\n",
              "</tr>\n",
              "<tr>\n",
              "  <th>COUNTRY_NZ</th>             <td>0.0000</td>   <td>0.0000</td>         <td>0.3985</td>         <td>0.6914</td> <td>-0.0000</td> <td>0.0000</td>\n",
              "</tr>\n",
              "<tr>\n",
              "  <th>COUNTRY_PAK</th>            <td>0.0000</td>   <td>0.0000</td>         <td>0.1098</td>         <td>0.9129</td> <td>-0.0000</td> <td>0.0000</td>\n",
              "</tr>\n",
              "<tr>\n",
              "  <th>COUNTRY_SA</th>             <td>-0.0000</td>  <td>0.0000</td>         <td>-0.2923</td>        <td>0.7709</td> <td>-0.0000</td> <td>0.0000</td>\n",
              "</tr>\n",
              "<tr>\n",
              "  <th>COUNTRY_SL</th>             <td>0.0000</td>   <td>0.0000</td>         <td>0.9556</td>         <td>0.3425</td> <td>-0.0000</td> <td>0.0000</td>\n",
              "</tr>\n",
              "<tr>\n",
              "  <th>COUNTRY_WI</th>             <td>-0.0000</td>  <td>0.0000</td>         <td>-0.0459</td>        <td>0.9635</td> <td>-0.0000</td> <td>0.0000</td>\n",
              "</tr>\n",
              "<tr>\n",
              "  <th>COUNTRY_ZIM</th>            <td>0.0000</td>   <td>0.0000</td>         <td>0.0000</td>         <td>1.0000</td> <td>-0.0000</td> <td>0.0000</td>\n",
              "</tr>\n",
              "<tr>\n",
              "  <th>PLAYING ROLE_Batsman</th>   <td>0.0000</td>   <td>0.0000</td>         <td>0.0000</td>         <td>1.0000</td> <td>-0.0000</td> <td>0.0000</td>\n",
              "</tr>\n",
              "<tr>\n",
              "  <th>PLAYING ROLE_Bowler</th>    <td>0.0000</td>   <td>0.0000</td>         <td>0.5046</td>         <td>0.6154</td> <td>-0.0000</td> <td>0.0000</td>\n",
              "</tr>\n",
              "<tr>\n",
              "  <th>PLAYING ROLE_W. Keeper</th> <td>-0.0000</td>  <td>0.0000</td>         <td>-0.4938</td>        <td>0.6230</td> <td>-0.0000</td> <td>0.0000</td>\n",
              "</tr>\n",
              "<tr>\n",
              "  <th>CAPTAINCY EXP_1</th>        <td>0.0000</td>   <td>0.0000</td>         <td>1.0139</td>         <td>0.3140</td> <td>-0.0000</td> <td>0.0000</td>\n",
              "</tr>\n",
              "</table>\n",
              "<table class=\"simpletable\">\n",
              "<tr>\n",
              "     <td>Omnibus:</td>    <td>36.812</td>  <td>Durbin-Watson:</td>    <td>1.508</td> \n",
              "</tr>\n",
              "<tr>\n",
              "  <td>Prob(Omnibus):</td>  <td>0.000</td> <td>Jarque-Bera (JB):</td> <td>124.043</td>\n",
              "</tr>\n",
              "<tr>\n",
              "       <td>Skew:</td>      <td>1.155</td>     <td>Prob(JB):</td>      <td>0.000</td> \n",
              "</tr>\n",
              "<tr>\n",
              "     <td>Kurtosis:</td>    <td>7.826</td>  <td>Condition No.:</td>   <td>9799013</td>\n",
              "</tr>\n",
              "</table>"
            ]
          },
          "metadata": {},
          "execution_count": 14
        }
      ]
    },
    {
      "cell_type": "markdown",
      "source": [
        "**7. Validate this model on the test data. FInd the regression parameters, r2_score and RMSE of this model1**"
      ],
      "metadata": {
        "id": "XwqBsFHB4M-y"
      }
    },
    {
      "cell_type": "code",
      "source": [
        "from sklearn.metrics import mean_squared_error,r2_score\n",
        "import numpy as np\n",
        "pred_y = model1.predict(test_X)\n",
        "\n",
        "print(\"The r2 score of the model is\",np.abs(r2_score(test_Y,pred_y)))\n",
        "print(\"The RMSE of the trained model is\",np.sqrt(mean_squared_error(test_Y,pred_y)))\n",
        "print(\"The model paramters are\")\n",
        "print(model1.params)\n"
      ],
      "metadata": {
        "colab": {
          "base_uri": "https://localhost:8080/"
        },
        "id": "zkaQpNszi1yR",
        "outputId": "63feed20-d87f-4bf8-ee7c-afd82bbf4d0c"
      },
      "execution_count": null,
      "outputs": [
        {
          "output_type": "stream",
          "name": "stdout",
          "text": [
            "The r2 score of the model is 1.0\n",
            "The RMSE of the trained model is 3.3854109558746726e-10\n",
            "The model paramters are\n",
            "const                     1.891749e-10\n",
            "T-RUNS                   -9.059420e-14\n",
            "T-WKTS                    1.705303e-13\n",
            "ODI-RUNS-S                5.151435e-14\n",
            "ODI-WKTS                  2.273737e-13\n",
            "ODI-SR-BL                -7.958079e-13\n",
            "RUNS-S                    5.684342e-14\n",
            "HS                       -2.728484e-12\n",
            "AVE                       8.867573e-12\n",
            "SR-B                      1.364242e-12\n",
            "SIXERS                   -9.094947e-13\n",
            "RUNS-C                    5.684342e-14\n",
            "WKTS                     -2.728484e-12\n",
            "AVE-BL                   -1.045919e-11\n",
            "ECON                     -5.911716e-12\n",
            "SR-BL                    -3.637979e-12\n",
            "SOLD PRICE                1.000000e+00\n",
            "AGE_2                    -2.910383e-11\n",
            "AGE_3                     8.731149e-11\n",
            "COUNTRY_BAN              -2.910383e-11\n",
            "COUNTRY_ENG               2.328306e-10\n",
            "COUNTRY_IND              -2.910383e-11\n",
            "COUNTRY_NZ                9.458745e-11\n",
            "COUNTRY_PAK               2.910383e-11\n",
            "COUNTRY_SA               -5.820766e-11\n",
            "COUNTRY_SL                2.328306e-10\n",
            "COUNTRY_WI               -1.455192e-11\n",
            "COUNTRY_ZIM               0.000000e+00\n",
            "PLAYING ROLE_Batsman      0.000000e+00\n",
            "PLAYING ROLE_Bowler       8.731149e-11\n",
            "PLAYING ROLE_W. Keeper   -1.455192e-10\n",
            "CAPTAINCY EXP_1           1.746230e-10\n",
            "dtype: float64\n"
          ]
        }
      ]
    },
    {
      "cell_type": "markdown",
      "source": [
        "**8. Find the variables which are statistically significant in influencing the response variable if the p-value of a variable is less than the significance value(aplha=0.05) it is an infulencing variable.**"
      ],
      "metadata": {
        "id": "OU_hJ2PnoOOQ"
      }
    },
    {
      "cell_type": "code",
      "source": [
        "s = model1.pvalues\n",
        "vars = list(s.index)\n",
        "pvals = list(s)"
      ],
      "metadata": {
        "id": "AYXR5gXeoh6I"
      },
      "execution_count": null,
      "outputs": []
    },
    {
      "cell_type": "code",
      "source": [
        "new = [i for i in zip(vars,pvals)]\n",
        "print(\"List of all variables and their pvalues is\",new)\n",
        "important_vars = [ i[0] for i in new if i[1]<0.05]\n",
        "print(\"list of influencing vars is\",important_vars)"
      ],
      "metadata": {
        "colab": {
          "base_uri": "https://localhost:8080/"
        },
        "id": "8p9Hb6BF3A2S",
        "outputId": "1283b0c8-b2a9-4ebe-cfcb-39c87138c653"
      },
      "execution_count": null,
      "outputs": [
        {
          "output_type": "stream",
          "name": "stdout",
          "text": [
            "List of all variables and their pvalues is [('const', 0.5539689738798592), ('T-RUNS', 0.05296019862879479), ('T-WKTS', 0.8392554550863263), ('ODI-RUNS-S', 0.25134795098128837), ('ODI-WKTS', 0.843016869572959), ('ODI-SR-BL', 0.6939450847421673), ('RUNS-S', 0.8136671805071538), ('HS', 0.46143767158383786), ('AVE', 0.4334676221189878), ('SR-B', 0.46931407370300826), ('SIXERS', 0.8724741330967318), ('RUNS-C', 0.8905502091907684), ('WKTS', 0.7866927667303332), ('AVE-BL', 0.46245687339175856), ('ECON', 0.7451952000961595), ('SR-BL', 0.8520563418014354), ('SOLD PRICE', 0.0), ('AGE_2', 0.8570979214627906), ('AGE_3', 0.6825085287556526), ('COUNTRY_BAN', 0.9616905531935234), ('COUNTRY_ENG', 0.5001760675124993), ('COUNTRY_IND', 0.869434464682583), ('COUNTRY_NZ', 0.6914125183205824), ('COUNTRY_PAK', 0.9128588990968739), ('COUNTRY_SA', 0.7708852326016248), ('COUNTRY_SL', 0.3424587724944149), ('COUNTRY_WI', 0.9635063684231233), ('COUNTRY_ZIM', 1.0), ('PLAYING ROLE_Batsman', 1.0), ('PLAYING ROLE_Bowler', 0.6153999185982298), ('PLAYING ROLE_W. Keeper', 0.6229687962252791), ('CAPTAINCY EXP_1', 0.31403509978120925)]\n",
            "list of influencing vars is ['SOLD PRICE']\n"
          ]
        }
      ]
    },
    {
      "cell_type": "markdown",
      "source": [
        "**9. Train a new model with these significant values**"
      ],
      "metadata": {
        "id": "Y-jJjESe4U0Q"
      }
    },
    {
      "cell_type": "code",
      "source": [
        "train_X = train_X[important_vars]\n",
        "model2 = sm.OLS(train_Y,train_X).fit()\n",
        "model2.summary2()"
      ],
      "metadata": {
        "colab": {
          "base_uri": "https://localhost:8080/",
          "height": 286
        },
        "id": "x-g5Xy2k4ZCA",
        "outputId": "261fd534-8ea8-494e-ea09-50ddade10b67"
      },
      "execution_count": null,
      "outputs": [
        {
          "output_type": "execute_result",
          "data": {
            "text/plain": [
              "<class 'statsmodels.iolib.summary2.Summary'>\n",
              "\"\"\"\n",
              "                        Results: Ordinary least squares\n",
              "================================================================================\n",
              "Model:                  OLS              Adj. R-squared (uncentered): 1.000     \n",
              "Dependent Variable:     SOLD PRICE       AIC:                         -4406.0930\n",
              "Date:                   2022-10-28 04:39 BIC:                         -4403.4486\n",
              "No. Observations:       104              Log-Likelihood:              2204.0    \n",
              "Df Model:               1                F-statistic:                 1.999e+33 \n",
              "Df Residuals:           103              Prob (F-statistic):          0.00      \n",
              "R-squared (uncentered): 1.000            Scale:                       2.3117e-20\n",
              "----------------------------------------------------------------------------------\n",
              "             Coef.    Std.Err.             t              P>|t|    [0.025   0.975]\n",
              "----------------------------------------------------------------------------------\n",
              "SOLD PRICE   1.0000     0.0000   44714027198680808.0000   0.0000   1.0000   1.0000\n",
              "--------------------------------------------------------------------------------\n",
              "Omnibus:                  48.246            Durbin-Watson:               0.991  \n",
              "Prob(Omnibus):            0.000             Jarque-Bera (JB):            117.962\n",
              "Skew:                     1.792             Prob(JB):                    0.000  \n",
              "Kurtosis:                 6.791             Condition No.:               1      \n",
              "================================================================================\n",
              "\n",
              "\"\"\""
            ],
            "text/html": [
              "<table class=\"simpletable\">\n",
              "<tr>\n",
              "          <td>Model:</td>                 <td>OLS</td>       <td>Adj. R-squared (uncentered):</td>    <td>1.000</td>  \n",
              "</tr>\n",
              "<tr>\n",
              "    <td>Dependent Variable:</td>      <td>SOLD PRICE</td>                <td>AIC:</td>             <td>-4406.0930</td>\n",
              "</tr>\n",
              "<tr>\n",
              "           <td>Date:</td>          <td>2022-10-28 04:39</td>             <td>BIC:</td>             <td>-4403.4486</td>\n",
              "</tr>\n",
              "<tr>\n",
              "     <td>No. Observations:</td>           <td>104</td>              <td>Log-Likelihood:</td>         <td>2204.0</td>  \n",
              "</tr>\n",
              "<tr>\n",
              "         <td>Df Model:</td>                <td>1</td>                <td>F-statistic:</td>          <td>1.999e+33</td>\n",
              "</tr>\n",
              "<tr>\n",
              "       <td>Df Residuals:</td>             <td>103</td>            <td>Prob (F-statistic):</td>        <td>0.00</td>   \n",
              "</tr>\n",
              "<tr>\n",
              "  <td>R-squared (uncentered):</td>       <td>1.000</td>                 <td>Scale:</td>            <td>2.3117e-20</td>\n",
              "</tr>\n",
              "</table>\n",
              "<table class=\"simpletable\">\n",
              "<tr>\n",
              "       <td></td>       <th>Coef.</th> <th>Std.Err.</th>            <th>t</th>            <th>P>|t|</th> <th>[0.025</th> <th>0.975]</th>\n",
              "</tr>\n",
              "<tr>\n",
              "  <th>SOLD PRICE</th> <td>1.0000</td>  <td>0.0000</td>  <td>44714027198680808.0000</td> <td>0.0000</td> <td>1.0000</td> <td>1.0000</td>\n",
              "</tr>\n",
              "</table>\n",
              "<table class=\"simpletable\">\n",
              "<tr>\n",
              "     <td>Omnibus:</td>    <td>48.246</td>  <td>Durbin-Watson:</td>    <td>0.991</td> \n",
              "</tr>\n",
              "<tr>\n",
              "  <td>Prob(Omnibus):</td>  <td>0.000</td> <td>Jarque-Bera (JB):</td> <td>117.962</td>\n",
              "</tr>\n",
              "<tr>\n",
              "       <td>Skew:</td>      <td>1.792</td>     <td>Prob(JB):</td>      <td>0.000</td> \n",
              "</tr>\n",
              "<tr>\n",
              "     <td>Kurtosis:</td>    <td>6.791</td>  <td>Condition No.:</td>      <td>1</td>   \n",
              "</tr>\n",
              "</table>"
            ]
          },
          "metadata": {},
          "execution_count": 25
        }
      ]
    },
    {
      "cell_type": "markdown",
      "source": [
        "**10. Make prediction on validation sets**"
      ],
      "metadata": {
        "id": "KRf2aNIA5AWq"
      }
    },
    {
      "cell_type": "code",
      "source": [
        "new_test_X = test_X[train_X.columns]\n",
        "pred_y = model2.predict(new_test_X)"
      ],
      "metadata": {
        "id": "dsJ-nWOW5PlP"
      },
      "execution_count": null,
      "outputs": []
    },
    {
      "cell_type": "markdown",
      "source": [
        "**11. Find r2_score and RMSE of this prediction by model2**"
      ],
      "metadata": {
        "id": "aLHYritC5juw"
      }
    },
    {
      "cell_type": "code",
      "source": [
        "from sklearn.metrics import mean_squared_error,r2_score\n",
        "import numpy as np\n",
        "# pred_y = model1.predict(test_X)\n",
        "\n",
        "print(\"The r2 score of the model is\",np.abs(r2_score(test_Y,pred_y)))\n",
        "print(\"The RMSE of the trained model is\",np.sqrt(mean_squared_error(test_Y,pred_y)))\n",
        "print(\"The model paramters are\")\n",
        "print(model2.params)"
      ],
      "metadata": {
        "colab": {
          "base_uri": "https://localhost:8080/"
        },
        "id": "qYjrBlyT5sIv",
        "outputId": "1585b8a5-6549-44e4-d3d1-452740e8eb92"
      },
      "execution_count": null,
      "outputs": [
        {
          "output_type": "stream",
          "name": "stdout",
          "text": [
            "The r2 score of the model is 1.0\n",
            "The RMSE of the trained model is 3.3854109558746726e-10\n",
            "The model paramters are\n",
            "SOLD PRICE    1.0\n",
            "dtype: float64\n"
          ]
        }
      ]
    }
  ]
}